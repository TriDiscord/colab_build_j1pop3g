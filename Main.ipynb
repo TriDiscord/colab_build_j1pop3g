{
  "cells": [
    {
      "cell_type": "markdown",
      "metadata": {
        "colab_type": "text",
        "id": "view-in-github"
      },
      "source": [
        "<a href=\"https://colab.research.google.com/github/TriDiscord/colab_build_j1pop3g/blob/main/Main.ipynb\" target=\"_parent\"><img src=\"https://colab.research.google.com/assets/colab-badge.svg\" alt=\"Open In Colab\"/></a>"
      ]
    },
    {
      "cell_type": "markdown",
      "metadata": {},
      "source": [
        "# CyanogenMod 11 for `j1pop3g`"
      ]
    },
    {
      "cell_type": "markdown",
      "metadata": {},
      "source": [
        "## Setting Up SSH"
      ]
    },
    {
      "cell_type": "code",
      "execution_count": null,
      "metadata": {},
      "outputs": [],
      "source": [
        "# READ https://github.com/WassimBenzarti/colab-ssh#getting-started\n",
        "!pip install colab_ssh --upgrade\n",
        "from colab_ssh import launch_ssh_cloudflared\n",
        "\n",
        "# launch_ssh_cloudflared(password=\"<PUT_YOUR_PASSWORD_HERE>\")\n",
        "launch_ssh_cloudflared(password=\"q\")\n",
        "\n",
        "# SSH Config File Windows PowerShell\n",
        "# Create C:\\Users\\USERNAME\\.ssh\\config\n",
        "# Copy Client machine configuration config bellow (appears after you run this block)\n",
        "# https://developers.cloudflare.com/cloudflare-one/connections/connect-apps/install-and-setup/tunnel-guide#1-download-and-install-cloudflared\n",
        "# Download Cloudflare client and put in in C:\\bin\\cloudflared.exe and replace <PUT_THE_ABSOLUTE_CLOUDFLARE_PATH_HERE> with that.\n",
        "# Then you should be able to SSH from Windows Powershell"
      ]
    },
    {
      "cell_type": "markdown",
      "metadata": {},
      "source": [
        "## Syncing Sources"
      ]
    },
    {
      "cell_type": "code",
      "execution_count": null,
      "metadata": {},
      "outputs": [],
      "source": [
        "%%bash\n",
        "mkdir ~/.bin\n",
        "curl http://commondatastorage.googleapis.com/git-repo-downloads/repo > ~/.bin/repo\n",
        "chmod a+x ~/.bin/repo\n",
        "mkdir ~/android\n",
        "cd ~/android\n",
        "python3 ~/.bin/repo init --depth=1 -u https://github.com/CyanogenMod/android.git -b cm-11.0\n",
        "git clone --depth=1 --single-branch -b cm-11.0 https://github.com/J110H-Android/local_manifests.git ~/android/.repo/local_manifests\n",
        "python3 ~/.bin/repo sync -c --force-sync --optimized-fetch -j$(nproc --all)\n",
        "\n",
        "# Use prebuilt patch to get CyanogenMod 11 to compile\n",
        "cd ~/android/vendor/cm\n",
        "curl -L https://gist.github.com/GoyawifiDEV/982dc5ff3f538eb69b8b7e4b155a98d9/raw > get-prebuilts\n",
        "chmod +x get-prebuilts\n",
        "./get-prebuilts"
      ]
    },
    {
      "cell_type": "markdown",
      "metadata": {},
      "source": [
        "## Setting Up Dependencies"
      ]
    },
    {
      "cell_type": "code",
      "execution_count": null,
      "metadata": {},
      "outputs": [],
      "source": [
        "%%bash\n",
        "sudo apt-get install git-core gnupg flex bison build-essential \\\n",
        "    zip curl zlib1g-dev gcc-multilib g++-multilib libc6-dev-i386 \\\n",
        "    libncurses5 lib32ncurses5-dev x11proto-core-dev libx11-dev \\\n",
        "    lib32z1-dev libgl1-mesa-dev libxml2-utils xsltproc unzip \\\n",
        "    fontconfig schedtool axel gperf file\n",
        "\n",
        "sudo update-alternatives --install /usr/bin/python python /usr/bin/python2.7 10\n",
        "sudo update-alternatives --install /usr/bin/python3 python3 /usr/bin/python2.7 3\n",
        "sudo update-alternatives --set python3 /usr/bin/python2.7"
      ]
    },
    {
      "cell_type": "markdown",
      "metadata": {},
      "source": [
        "## Installing Oracle JDK 6"
      ]
    },
    {
      "cell_type": "code",
      "execution_count": null,
      "metadata": {},
      "outputs": [],
      "source": [
        "%%bash\n",
        "mkdir ~/.jdk_6\n",
        "cd ~/.jdk_6\n",
        "axel -q -n $(nproc --all) https://repo.huaweicloud.com/java/jdk/6u45-b06/jdk-6u45-linux-x64.bin\n",
        "chmod +x jdk-6u45-linux-x64.bin\n",
        "./jdk-6u45-linux-x64.bin\n",
        "sudo update-alternatives --install /usr/bin/javac javac  $PWD/jdk1.6.0_45/bin/javac 1\n",
        "sudo update-alternatives --set javac $PWD/jdk1.6.0_45/bin/javac\n",
        "sudo update-alternatives --install /usr/bin/java java  $PWD/jdk1.6.0_45/bin/java 1\n",
        "sudo update-alternatives --set java $PWD/jdk1.6.0_45/bin/java\n",
        "sudo update-alternatives --install /usr/bin/javaws javaws  $PWD/jdk1.6.0_45/bin/javaws 1\n",
        "sudo update-alternatives --set javaws $PWD/jdk1.6.0_45/bin/javaws\n",
        "sudo update-alternatives --install /usr/bin/javadoc javadoc  $PWD/jdk1.6.0_45/bin/javadoc 1\n",
        "sudo update-alternatives --set javadoc $PWD/jdk1.6.0_45/bin/javadoc\n",
        "sudo update-alternatives --install /usr/bin/javah javah  $PWD/jdk1.6.0_45/bin/javah 1\n",
        "sudo update-alternatives --set javah $PWD/jdk1.6.0_45/bin/javah\n",
        "sudo update-alternatives --install /usr/bin/javap javap  $PWD/jdk1.6.0_45/bin/javap 1\n",
        "sudo update-alternatives --set javap $PWD/jdk1.6.0_45/bin/javap\n",
        "sudo update-alternatives --install /usr/bin/jar jar  $PWD/jdk1.6.0_45/bin/jar 1\n",
        "sudo update-alternatives --set jar $PWD/jdk1.6.0_45/bin/jar"
      ]
    },
    {
      "cell_type": "markdown",
      "metadata": {},
      "source": [
        "## Building CyanogenMod 11"
      ]
    },
    {
      "cell_type": "code",
      "execution_count": null,
      "metadata": {},
      "outputs": [],
      "source": [
        "%%bash\n",
        "cd ~/android\n",
        "source build/envsetup.sh\n",
        "export ALLOW_MISSING_DEPENDENCIES=true\n",
        "export LC_ALL=C\n",
        "lunch cm_j1pop3g-eng\n",
        "mka"
      ]
    }
  ],
  "metadata": {
    "colab": {
      "authorship_tag": "",
      "collapsed_sections": [],
      "include_colab_link": true,
      "name": "CyanogenMod 11 for j1pop3g",
      "provenance": []
    },
    "kernelspec": {
      "display_name": "Python 3",
      "name": "python3"
    },
    "language_info": {
      "name": "python"
    }
  },
  "nbformat": 4,
  "nbformat_minor": 0
}
